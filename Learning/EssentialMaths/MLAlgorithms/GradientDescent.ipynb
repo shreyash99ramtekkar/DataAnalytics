{
 "cells": [
  {
   "cell_type": "markdown",
   "id": "2cb75229",
   "metadata": {},
   "source": [
    "## Gradient Descent\n",
    "Theroy available at: https://docs.google.com/document/d/1nWBeCy4V-GScpgAZWWKJPgkatNTwxfAC38feQpq2bsE/edit?usp=sharing"
   ]
  },
  {
   "cell_type": "code",
   "execution_count": 1,
   "id": "e0275694",
   "metadata": {},
   "outputs": [],
   "source": [
    "import numpy as np\n",
    "import pandas as pd\n",
    "import matplotlib.pyplot as plt\n",
    "import seaborn as sns\n",
    "import random"
   ]
  },
  {
   "cell_type": "code",
   "execution_count": null,
   "id": "8d208901",
   "metadata": {},
   "outputs": [],
   "source": [
    "ecom_data = "
   ]
  }
 ],
 "metadata": {
  "kernelspec": {
   "display_name": "Python 3 (ipykernel)",
   "language": "python",
   "name": "python3"
  },
  "language_info": {
   "codemirror_mode": {
    "name": "ipython",
    "version": 3
   },
   "file_extension": ".py",
   "mimetype": "text/x-python",
   "name": "python",
   "nbconvert_exporter": "python",
   "pygments_lexer": "ipython3",
   "version": "3.11.5"
  }
 },
 "nbformat": 4,
 "nbformat_minor": 5
}
